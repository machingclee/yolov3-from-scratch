{
 "cells": [
  {
   "cell_type": "markdown",
   "source": [
    "# Construction of YOLO v3 Model"
   ],
   "metadata": {}
  },
  {
   "cell_type": "code",
   "execution_count": 69,
   "source": [
    "import torch\r\n",
    "import torch.nn as nn"
   ],
   "outputs": [],
   "metadata": {}
  },
  {
   "cell_type": "code",
   "execution_count": 68,
   "source": [
    "_x = torch.randn(1, 3, 416, 416)\r\n",
    "_x = nn.Conv2d(3, 3, 3, 1, padding=1)(_x)\r\n",
    "_x = nn.Conv2d(3, 3, 3, 2, padding=1)(_x)\r\n",
    "_x = nn.Conv2d(3, 3, 3, 2, padding=1)(_x)\r\n",
    "_x = nn.Conv2d(3, 3, 3, 2, padding=1)(_x)\r\n",
    "print(_x.shape)\r\n",
    "_x = nn.Conv2d(3, 3, 3, 2, padding=1)(_x)\r\n",
    "print(_x.shape)\r\n",
    "_x = nn.Conv2d(3, 3, 3, 2, padding=1)(_x)\r\n",
    "print(_x.shape)\r\n"
   ],
   "outputs": [
    {
     "output_type": "stream",
     "name": "stdout",
     "text": [
      "torch.Size([1, 3, 52, 52])\n",
      "torch.Size([1, 3, 26, 26])\n",
      "torch.Size([1, 3, 13, 13])\n"
     ]
    }
   ],
   "metadata": {}
  },
  {
   "cell_type": "code",
   "execution_count": 59,
   "source": [
    "\"\"\" \r\n",
    "Information about architecture config:\r\n",
    "Tuple is structured by (filters, kernel_size, stride) \r\n",
    "Every conv is a same convolution. \r\n",
    "List is structured by \"B\" indicating a residual block followed by the number of repeats\r\n",
    "\"S\" is for scale prediction block and computing the yolo loss\r\n",
    "\"U\" is for upsampling the feature map and concatenating with a previous layer\r\n",
    "\"\"\"\r\n",
    "#416x416\r\n",
    "config = [\r\n",
    "    (32, 3, 1),     #416x416, i.e., padding=\"same\" convolution\r\n",
    "    (64, 3, 2),     #208x208, i.e., resize by half convolution\r\n",
    "    [\"B\", 1],       #208x208\r\n",
    "    (128, 3, 2),    #104x104\r\n",
    "    [\"B\", 2],       #104x104\r\n",
    "    (256, 3, 2),    #52x52\r\n",
    "    [\"B\", 8],       #52x52\r\n",
    "    (512, 3, 2),    #26x26\r\n",
    "    [\"B\", 8],       #26x26\r\n",
    "    (1024, 3, 2),   #None, 1024, 13, 13\r\n",
    "    [\"B\", 4],       # To this point is Darknet-53  #13x13\r\n",
    "    (512, 1, 1),    #None, 512, 13, 13\r\n",
    "    (1024, 3, 1),   #None, 1024, 13, 13\r\n",
    "    \"S\",\r\n",
    "    (256, 1, 1),\r\n",
    "    \"U\",            #None, 256+512 = 3*256, x, x\r\n",
    "    (256, 1, 1),\r\n",
    "    (512, 3, 1),\r\n",
    "    \"S\",\r\n",
    "    (128, 1, 1),\r\n",
    "    \"U\",            #None, 128+256 = 3*128\r\n",
    "    (128, 1, 1),\r\n",
    "    (256, 3, 1),\r\n",
    "    \"S\",\r\n",
    "]"
   ],
   "outputs": [],
   "metadata": {}
  },
  {
   "cell_type": "code",
   "execution_count": 60,
   "source": [
    "class CNNBlock(nn.Module):\r\n",
    "    def __init__(self, in_channels, out_channels, bn_act=True, **kwargs):\r\n",
    "        super(CNNBlock, self).__init__()\r\n",
    "        self.conv = nn.Conv2d(in_channels, out_channels, bias=not bn_act, **kwargs)\r\n",
    "        self.bn = nn.BatchNorm2d(out_channels)\r\n",
    "        self.leaky = nn.LeakyReLU(0.1)\r\n",
    "        self.use_bn_act = bn_act\r\n",
    "    \r\n",
    "    def forward(self, x):\r\n",
    "        x = self.conv(x)\r\n",
    "\r\n",
    "        if not self.use_bn_act:\r\n",
    "            return x\r\n",
    "        else:\r\n",
    "            x = self.bn(x)\r\n",
    "            x = self.leaky(x)\r\n",
    "            return x"
   ],
   "outputs": [],
   "metadata": {}
  },
  {
   "cell_type": "code",
   "execution_count": 61,
   "source": [
    "class ResidualBlock(nn.Module):\r\n",
    "    def __init__(self, channels, use_skip_connection=True, num_repeats=1):\r\n",
    "        super(ResidualBlock, self).__init__()\r\n",
    "        self.layers = nn.ModuleList()\r\n",
    "        for _ in range(num_repeats):\r\n",
    "            # spatial dimension is preserved\r\n",
    "            self.layers += [\r\n",
    "                nn.Sequential(\r\n",
    "                    CNNBlock(channels, channels//2, kernel_size = 1),\r\n",
    "                    CNNBlock(channels//2, channels, kernel_size = 3, padding = 1)\r\n",
    "                )\r\n",
    "            ]\r\n",
    "        \r\n",
    "        self.use_skip_connection = use_skip_connection\r\n",
    "        self.num_repeats =  num_repeats\r\n",
    "    \r\n",
    "    def forward(self, x):\r\n",
    "        for layer in self.layers:\r\n",
    "            if self.use_skip_connection:\r\n",
    "                x = layer(x) + x\r\n",
    "            else: \r\n",
    "                x = layer(x)\r\n",
    "\r\n",
    "        return x"
   ],
   "outputs": [],
   "metadata": {}
  },
  {
   "cell_type": "code",
   "execution_count": 62,
   "source": [
    "# Scales mean 13x13, 26x26, 52x52\r\n",
    "class ScalePrediction(nn.Module):\r\n",
    "    def __init__(self, in_channels, num_classes):\r\n",
    "        super(ScalePrediction, self).__init__()\r\n",
    "        # pred preserve spatial dimension\r\n",
    "        self.pred = nn.Sequential(\r\n",
    "            CNNBlock(in_channels, 2 * in_channels, kernel_size=3, padding=1),\r\n",
    "            CNNBlock(2 * in_channels, 3 * (num_classes + 5), bn_act=False, kernel_size=1)\r\n",
    "        )\r\n",
    "        self.num_classes = num_classes\r\n",
    "    \r\n",
    "    def forward(self, x):\r\n",
    "        \"\"\"\r\n",
    "        Finally reshape and permute into: \r\n",
    "            [\r\n",
    "                batch_size, \r\n",
    "                anchor_nums,\r\n",
    "                num_of_vertical_cells, \r\n",
    "                num_of_horizontal_cells\r\n",
    "                class_scores + bounding_box_predictions, \r\n",
    "            ]\r\n",
    "        \"\"\"\r\n",
    "        return (\r\n",
    "            self\r\n",
    "            .pred(x)\r\n",
    "            .reshape(x.shape[0], 3, self.num_classes + 5, x.shape[2], x.shape[3])\r\n",
    "            .permute(0, 1, 3, 4, 2)            \r\n",
    "        )"
   ],
   "outputs": [],
   "metadata": {}
  },
  {
   "cell_type": "code",
   "execution_count": 63,
   "source": [
    "class YOLOv3(nn.Module):\r\n",
    "    def __init__(self, in_channels=3, num_classes=20):\r\n",
    "        super(YOLOv3, self).__init__()\r\n",
    "        self.num_classes = num_classes\r\n",
    "        self.in_channels = in_channels\r\n",
    "        self.layers = self._create_conv_layers()\r\n",
    "    \r\n",
    "    def forward(self, x):\r\n",
    "        outputs = []\r\n",
    "        route_connections=[]\r\n",
    "\r\n",
    "        for layer in self.layers:\r\n",
    "            if isinstance(layer, ScalePrediction):\r\n",
    "                output = layer(x)\r\n",
    "                outputs.append(output)\r\n",
    "                # i.e., don't treat the ScalePrediction as a chain in our network,\r\n",
    "                # just record the result and continue\r\n",
    "                continue\r\n",
    "            \r\n",
    "            # this will be executed as long as layer is not ScalePrediction\r\n",
    "            x = layer(x)\r\n",
    "\r\n",
    "            if isinstance(layer, ResidualBlock) and layer.num_repeats==8:\r\n",
    "                route_connections.append(x)\r\n",
    "                \r\n",
    "            elif isinstance(layer, nn.Upsample):\r\n",
    "                x=torch.cat([x, route_connections[-1]], dim = 1)\r\n",
    "                route_connections.pop()\r\n",
    "             \r\n",
    "        return outputs\r\n",
    "\r\n",
    "    def _create_conv_layers(self):\r\n",
    "        layers = nn.ModuleList()\r\n",
    "        # initialize input channels\r\n",
    "        in_channels = self.in_channels\r\n",
    "        for module in config:\r\n",
    "            if isinstance(module, tuple):\r\n",
    "                # it is a tuple iff it is a CNNBlock\r\n",
    "                out_channels, kernel_size, stride = module\r\n",
    "                layers.append(\r\n",
    "                    CNNBlock(\r\n",
    "                        in_channels=in_channels,\r\n",
    "                        out_channels = out_channels,\r\n",
    "                        kernel_size = kernel_size,\r\n",
    "                        stride = stride,\r\n",
    "                        padding = 1 if kernel_size == 3 else 0\r\n",
    "                    )\r\n",
    "                )\r\n",
    "                in_channels = out_channels\r\n",
    "            \r\n",
    "            elif isinstance(module, list):\r\n",
    "                # it is a list iff it is a resudial block\r\n",
    "                num_repeats = module[1]\r\n",
    "                layers.append(\r\n",
    "                    ResidualBlock(\r\n",
    "                        in_channels, \r\n",
    "                        num_repeats=num_repeats\r\n",
    "                    )\r\n",
    "                )\r\n",
    "            \r\n",
    "            elif isinstance(module, str):\r\n",
    "                # Scale Prediction\r\n",
    "                if module == \"S\":\r\n",
    "                    layers += [\r\n",
    "                        ResidualBlock(\r\n",
    "                            in_channels,\r\n",
    "                            use_skip_connection=False,\r\n",
    "                            num_repeats=1\r\n",
    "                        ),\r\n",
    "                        CNNBlock(\r\n",
    "                            in_channels, \r\n",
    "                            in_channels//2,\r\n",
    "                            kernel_size=1\r\n",
    "                        ),\r\n",
    "                        ScalePrediction(\r\n",
    "                            in_channels//2, \r\n",
    "                            num_classes=self.num_classes\r\n",
    "                        )\r\n",
    "                    ]\r\n",
    "                    # Scale prediction will not be counted in the chain of conv nets, \r\n",
    "                    # it will be stored and \"continued\" in the for loop\r\n",
    "                    # so the \"current num of channels\" is the CNNBlock's one\r\n",
    "                    in_channels = in_channels//2\r\n",
    "                # Upsampling\r\n",
    "                elif module == \"U\":\r\n",
    "                    layers.append(nn.Upsample(scale_factor=2))\r\n",
    "                    # every time a [\"B\", 8] is executed, when then double the in_channel\r\n",
    "                    # the output of [\"B\", 8] then get concated to this upsampled output\r\n",
    "                    # this *3 is a summarized pattern of the network\r\n",
    "                    in_channels = in_channels*3\r\n",
    "        \r\n",
    "        return layers"
   ],
   "outputs": [],
   "metadata": {}
  },
  {
   "cell_type": "code",
   "execution_count": 64,
   "source": [
    "def test():\r\n",
    "    num_classes=20\r\n",
    "    IMAGE_SIZE=416\r\n",
    "    \r\n",
    "    model = YOLOv3(num_classes=num_classes)\r\n",
    "    x = torch.randn((2, 3, IMAGE_SIZE, IMAGE_SIZE))\r\n",
    "    assert model(x)[0].shape == (2, 3, IMAGE_SIZE//32, IMAGE_SIZE//32, num_classes + 5)\r\n",
    "    assert model(x)[1].shape == (2, 3, IMAGE_SIZE//16, IMAGE_SIZE//16, num_classes + 5)\r\n",
    "    assert model(x)[2].shape == (2, 3, IMAGE_SIZE//8, IMAGE_SIZE//8, num_classes + 5)\r\n",
    "    print(\"success\")"
   ],
   "outputs": [],
   "metadata": {}
  },
  {
   "cell_type": "code",
   "execution_count": 65,
   "source": [
    "test()"
   ],
   "outputs": [
    {
     "output_type": "stream",
     "name": "stdout",
     "text": [
      "success\n"
     ]
    }
   ],
   "metadata": {}
  },
  {
   "cell_type": "markdown",
   "source": [
    "# Dataset"
   ],
   "metadata": {}
  },
  {
   "cell_type": "code",
   "execution_count": 39,
   "source": [
    "import numpy as np\r\n",
    "import os\r\n",
    "import pandas as pd\r\n",
    "import torch\r\n",
    "import sys\r\n",
    "\r\n",
    "from PIL import Image, ImageFile\r\n",
    "sys.path.append(os.getcwd())\r\n",
    "\r\n",
    "from _utils import ( \r\n",
    "  iou_width_height as iou,\r\n",
    "  non_max_suppression as nms\r\n",
    ")"
   ],
   "outputs": [
    {
     "output_type": "error",
     "ename": "ImportError",
     "evalue": "cannot import name 'file_hash' from 'pooch.utils' (C:\\Users\\user\\anaconda3\\envs\\pytorch\\lib\\site-packages\\pooch\\utils.py)",
     "traceback": [
      "\u001b[1;31m---------------------------------------------------------------------------\u001b[0m",
      "\u001b[1;31mImportError\u001b[0m                               Traceback (most recent call last)",
      "\u001b[1;32m~\\AppData\\Local\\Temp/ipykernel_30956/669696307.py\u001b[0m in \u001b[0;36m<module>\u001b[1;34m\u001b[0m\n\u001b[0;32m      8\u001b[0m \u001b[0msys\u001b[0m\u001b[1;33m.\u001b[0m\u001b[0mpath\u001b[0m\u001b[1;33m.\u001b[0m\u001b[0mappend\u001b[0m\u001b[1;33m(\u001b[0m\u001b[0mos\u001b[0m\u001b[1;33m.\u001b[0m\u001b[0mgetcwd\u001b[0m\u001b[1;33m(\u001b[0m\u001b[1;33m)\u001b[0m\u001b[1;33m)\u001b[0m\u001b[1;33m\u001b[0m\u001b[1;33m\u001b[0m\u001b[0m\n\u001b[0;32m      9\u001b[0m \u001b[1;33m\u001b[0m\u001b[0m\n\u001b[1;32m---> 10\u001b[1;33m from _utils import ( \n\u001b[0m\u001b[0;32m     11\u001b[0m   \u001b[0miou_width_height\u001b[0m \u001b[1;32mas\u001b[0m \u001b[0miou\u001b[0m\u001b[1;33m,\u001b[0m\u001b[1;33m\u001b[0m\u001b[1;33m\u001b[0m\u001b[0m\n\u001b[0;32m     12\u001b[0m   \u001b[0mnon_max_suppression\u001b[0m \u001b[1;32mas\u001b[0m \u001b[0mnms\u001b[0m\u001b[1;33m\u001b[0m\u001b[1;33m\u001b[0m\u001b[0m\n",
      "\u001b[1;32mc:\\Users\\user\\Repos\\Python\\2021-08-23-yolov3-from-scratch\\Yolov3\\_utils.py\u001b[0m in \u001b[0;36m<module>\u001b[1;34m\u001b[0m\n\u001b[1;32m----> 1\u001b[1;33m \u001b[1;32mimport\u001b[0m \u001b[0mconfig\u001b[0m\u001b[1;33m\u001b[0m\u001b[1;33m\u001b[0m\u001b[0m\n\u001b[0m\u001b[0;32m      2\u001b[0m \u001b[1;32mimport\u001b[0m \u001b[0mmatplotlib\u001b[0m\u001b[1;33m.\u001b[0m\u001b[0mpyplot\u001b[0m \u001b[1;32mas\u001b[0m \u001b[0mplt\u001b[0m\u001b[1;33m\u001b[0m\u001b[1;33m\u001b[0m\u001b[0m\n\u001b[0;32m      3\u001b[0m \u001b[1;32mimport\u001b[0m \u001b[0mmatplotlib\u001b[0m\u001b[1;33m.\u001b[0m\u001b[0mpatches\u001b[0m \u001b[1;32mas\u001b[0m \u001b[0mpatches\u001b[0m\u001b[1;33m\u001b[0m\u001b[1;33m\u001b[0m\u001b[0m\n\u001b[0;32m      4\u001b[0m \u001b[1;32mimport\u001b[0m \u001b[0mnumpy\u001b[0m \u001b[1;32mas\u001b[0m \u001b[0mnp\u001b[0m\u001b[1;33m\u001b[0m\u001b[1;33m\u001b[0m\u001b[0m\n\u001b[0;32m      5\u001b[0m \u001b[1;32mimport\u001b[0m \u001b[0mos\u001b[0m\u001b[1;33m\u001b[0m\u001b[1;33m\u001b[0m\u001b[0m\n",
      "\u001b[1;32mc:\\Users\\user\\Repos\\Python\\2021-08-23-yolov3-from-scratch\\Yolov3\\config.py\u001b[0m in \u001b[0;36m<module>\u001b[1;34m\u001b[0m\n\u001b[0;32m      1\u001b[0m \u001b[1;31m# from _utils import seed_everything\u001b[0m\u001b[1;33m\u001b[0m\u001b[1;33m\u001b[0m\u001b[1;33m\u001b[0m\u001b[0m\n\u001b[1;32m----> 2\u001b[1;33m \u001b[1;32mfrom\u001b[0m \u001b[0malbumentations\u001b[0m\u001b[1;33m.\u001b[0m\u001b[0mpytorch\u001b[0m \u001b[1;32mimport\u001b[0m \u001b[0mToTensorV2\u001b[0m\u001b[1;33m\u001b[0m\u001b[1;33m\u001b[0m\u001b[0m\n\u001b[0m\u001b[0;32m      3\u001b[0m \u001b[1;32mimport\u001b[0m \u001b[0mtorch\u001b[0m\u001b[1;33m\u001b[0m\u001b[1;33m\u001b[0m\u001b[0m\n\u001b[0;32m      4\u001b[0m \u001b[1;32mimport\u001b[0m \u001b[0mcv2\u001b[0m\u001b[1;33m\u001b[0m\u001b[1;33m\u001b[0m\u001b[0m\n\u001b[0;32m      5\u001b[0m \u001b[1;32mimport\u001b[0m \u001b[0malbumentations\u001b[0m \u001b[1;32mas\u001b[0m \u001b[0mA\u001b[0m\u001b[1;33m\u001b[0m\u001b[1;33m\u001b[0m\u001b[0m\n",
      "\u001b[1;32m~\\anaconda3\\envs\\pytorch\\lib\\site-packages\\albumentations\\__init__.py\u001b[0m in \u001b[0;36m<module>\u001b[1;34m\u001b[0m\n\u001b[0;32m      3\u001b[0m \u001b[0m__version__\u001b[0m \u001b[1;33m=\u001b[0m \u001b[1;34m\"1.0.3\"\u001b[0m\u001b[1;33m\u001b[0m\u001b[1;33m\u001b[0m\u001b[0m\n\u001b[0;32m      4\u001b[0m \u001b[1;33m\u001b[0m\u001b[0m\n\u001b[1;32m----> 5\u001b[1;33m \u001b[1;32mfrom\u001b[0m \u001b[1;33m.\u001b[0m\u001b[0mcore\u001b[0m\u001b[1;33m.\u001b[0m\u001b[0mcomposition\u001b[0m \u001b[1;32mimport\u001b[0m \u001b[1;33m*\u001b[0m\u001b[1;33m\u001b[0m\u001b[1;33m\u001b[0m\u001b[0m\n\u001b[0m\u001b[0;32m      6\u001b[0m \u001b[1;32mfrom\u001b[0m \u001b[1;33m.\u001b[0m\u001b[0mcore\u001b[0m\u001b[1;33m.\u001b[0m\u001b[0mtransforms_interface\u001b[0m \u001b[1;32mimport\u001b[0m \u001b[1;33m*\u001b[0m\u001b[1;33m\u001b[0m\u001b[1;33m\u001b[0m\u001b[0m\n\u001b[0;32m      7\u001b[0m \u001b[1;32mfrom\u001b[0m \u001b[1;33m.\u001b[0m\u001b[0mcore\u001b[0m\u001b[1;33m.\u001b[0m\u001b[0mserialization\u001b[0m \u001b[1;32mimport\u001b[0m \u001b[1;33m*\u001b[0m\u001b[1;33m\u001b[0m\u001b[1;33m\u001b[0m\u001b[0m\n",
      "\u001b[1;32m~\\anaconda3\\envs\\pytorch\\lib\\site-packages\\albumentations\\core\\composition.py\u001b[0m in \u001b[0;36m<module>\u001b[1;34m\u001b[0m\n\u001b[0;32m      6\u001b[0m \u001b[1;32mimport\u001b[0m \u001b[0mnumpy\u001b[0m \u001b[1;32mas\u001b[0m \u001b[0mnp\u001b[0m\u001b[1;33m\u001b[0m\u001b[1;33m\u001b[0m\u001b[0m\n\u001b[0;32m      7\u001b[0m \u001b[1;33m\u001b[0m\u001b[0m\n\u001b[1;32m----> 8\u001b[1;33m \u001b[1;32mfrom\u001b[0m \u001b[0malbumentations\u001b[0m\u001b[1;33m.\u001b[0m\u001b[0maugmentations\u001b[0m\u001b[1;33m.\u001b[0m\u001b[0mkeypoints_utils\u001b[0m \u001b[1;32mimport\u001b[0m \u001b[0mKeypointsProcessor\u001b[0m\u001b[1;33m\u001b[0m\u001b[1;33m\u001b[0m\u001b[0m\n\u001b[0m\u001b[0;32m      9\u001b[0m \u001b[1;32mfrom\u001b[0m \u001b[0malbumentations\u001b[0m\u001b[1;33m.\u001b[0m\u001b[0mcore\u001b[0m\u001b[1;33m.\u001b[0m\u001b[0mserialization\u001b[0m \u001b[1;32mimport\u001b[0m \u001b[0mSerializableMeta\u001b[0m\u001b[1;33m,\u001b[0m \u001b[0mget_shortest_class_fullname\u001b[0m\u001b[1;33m\u001b[0m\u001b[1;33m\u001b[0m\u001b[0m\n\u001b[0;32m     10\u001b[0m \u001b[1;32mfrom\u001b[0m \u001b[0malbumentations\u001b[0m\u001b[1;33m.\u001b[0m\u001b[0mcore\u001b[0m\u001b[1;33m.\u001b[0m\u001b[0msix\u001b[0m \u001b[1;32mimport\u001b[0m \u001b[0madd_metaclass\u001b[0m\u001b[1;33m\u001b[0m\u001b[1;33m\u001b[0m\u001b[0m\n",
      "\u001b[1;32m~\\anaconda3\\envs\\pytorch\\lib\\site-packages\\albumentations\\augmentations\\__init__.py\u001b[0m in \u001b[0;36m<module>\u001b[1;34m\u001b[0m\n\u001b[0;32m      2\u001b[0m \u001b[1;32mfrom\u001b[0m \u001b[1;33m.\u001b[0m\u001b[0mkeypoints_utils\u001b[0m \u001b[1;32mimport\u001b[0m \u001b[1;33m*\u001b[0m\u001b[1;33m\u001b[0m\u001b[1;33m\u001b[0m\u001b[0m\n\u001b[0;32m      3\u001b[0m \u001b[1;32mfrom\u001b[0m \u001b[1;33m.\u001b[0m\u001b[0mbbox_utils\u001b[0m \u001b[1;32mimport\u001b[0m \u001b[1;33m*\u001b[0m\u001b[1;33m\u001b[0m\u001b[1;33m\u001b[0m\u001b[0m\n\u001b[1;32m----> 4\u001b[1;33m \u001b[1;32mfrom\u001b[0m \u001b[1;33m.\u001b[0m\u001b[0mfunctional\u001b[0m \u001b[1;32mimport\u001b[0m \u001b[1;33m*\u001b[0m\u001b[1;33m\u001b[0m\u001b[1;33m\u001b[0m\u001b[0m\n\u001b[0m\u001b[0;32m      5\u001b[0m \u001b[1;32mfrom\u001b[0m \u001b[1;33m.\u001b[0m\u001b[0mtransforms\u001b[0m \u001b[1;32mimport\u001b[0m \u001b[1;33m*\u001b[0m\u001b[1;33m\u001b[0m\u001b[1;33m\u001b[0m\u001b[0m\n\u001b[0;32m      6\u001b[0m \u001b[1;33m\u001b[0m\u001b[0m\n",
      "\u001b[1;32m~\\anaconda3\\envs\\pytorch\\lib\\site-packages\\albumentations\\augmentations\\functional.py\u001b[0m in \u001b[0;36m<module>\u001b[1;34m\u001b[0m\n\u001b[0;32m      7\u001b[0m \u001b[1;32mimport\u001b[0m \u001b[0mcv2\u001b[0m\u001b[1;33m\u001b[0m\u001b[1;33m\u001b[0m\u001b[0m\n\u001b[0;32m      8\u001b[0m \u001b[1;32mimport\u001b[0m \u001b[0mnumpy\u001b[0m \u001b[1;32mas\u001b[0m \u001b[0mnp\u001b[0m\u001b[1;33m\u001b[0m\u001b[1;33m\u001b[0m\u001b[0m\n\u001b[1;32m----> 9\u001b[1;33m \u001b[1;32mimport\u001b[0m \u001b[0mskimage\u001b[0m\u001b[1;33m\u001b[0m\u001b[1;33m\u001b[0m\u001b[0m\n\u001b[0m\u001b[0;32m     10\u001b[0m \u001b[1;33m\u001b[0m\u001b[0m\n\u001b[0;32m     11\u001b[0m \u001b[1;32mfrom\u001b[0m \u001b[0mtyping\u001b[0m \u001b[1;32mimport\u001b[0m \u001b[0mSequence\u001b[0m\u001b[1;33m,\u001b[0m \u001b[0mOptional\u001b[0m\u001b[1;33m,\u001b[0m \u001b[0mUnion\u001b[0m\u001b[1;33m\u001b[0m\u001b[1;33m\u001b[0m\u001b[0m\n",
      "\u001b[1;32m~\\anaconda3\\envs\\pytorch\\lib\\site-packages\\skimage\\__init__.py\u001b[0m in \u001b[0;36m<module>\u001b[1;34m\u001b[0m\n\u001b[0;32m    133\u001b[0m                              \u001b[0mimg_as_bool\u001b[0m\u001b[1;33m,\u001b[0m\u001b[1;33m\u001b[0m\u001b[1;33m\u001b[0m\u001b[0m\n\u001b[0;32m    134\u001b[0m                              dtype_limits)\n\u001b[1;32m--> 135\u001b[1;33m     \u001b[1;32mfrom\u001b[0m \u001b[1;33m.\u001b[0m\u001b[0mdata\u001b[0m \u001b[1;32mimport\u001b[0m \u001b[0mdata_dir\u001b[0m\u001b[1;33m\u001b[0m\u001b[1;33m\u001b[0m\u001b[0m\n\u001b[0m\u001b[0;32m    136\u001b[0m     \u001b[1;32mfrom\u001b[0m \u001b[1;33m.\u001b[0m\u001b[0mutil\u001b[0m\u001b[1;33m.\u001b[0m\u001b[0mlookfor\u001b[0m \u001b[1;32mimport\u001b[0m \u001b[0mlookfor\u001b[0m\u001b[1;33m\u001b[0m\u001b[1;33m\u001b[0m\u001b[0m\n\u001b[0;32m    137\u001b[0m \u001b[1;33m\u001b[0m\u001b[0m\n",
      "\u001b[1;32m~\\anaconda3\\envs\\pytorch\\lib\\site-packages\\skimage\\data\\__init__.py\u001b[0m in \u001b[0;36m<module>\u001b[1;34m\u001b[0m\n\u001b[0;32m     62\u001b[0m \u001b[1;33m\u001b[0m\u001b[0m\n\u001b[0;32m     63\u001b[0m \u001b[1;32mtry\u001b[0m\u001b[1;33m:\u001b[0m\u001b[1;33m\u001b[0m\u001b[1;33m\u001b[0m\u001b[0m\n\u001b[1;32m---> 64\u001b[1;33m     \u001b[1;32mfrom\u001b[0m \u001b[0mpooch\u001b[0m\u001b[1;33m.\u001b[0m\u001b[0mutils\u001b[0m \u001b[1;32mimport\u001b[0m \u001b[0mfile_hash\u001b[0m\u001b[1;33m\u001b[0m\u001b[1;33m\u001b[0m\u001b[0m\n\u001b[0m\u001b[0;32m     65\u001b[0m \u001b[1;32mexcept\u001b[0m \u001b[0mModuleNotFoundError\u001b[0m\u001b[1;33m:\u001b[0m\u001b[1;33m\u001b[0m\u001b[1;33m\u001b[0m\u001b[0m\n\u001b[0;32m     66\u001b[0m     \u001b[1;31m# Function taken from\u001b[0m\u001b[1;33m\u001b[0m\u001b[1;33m\u001b[0m\u001b[1;33m\u001b[0m\u001b[0m\n",
      "\u001b[1;31mImportError\u001b[0m: cannot import name 'file_hash' from 'pooch.utils' (C:\\Users\\user\\anaconda3\\envs\\pytorch\\lib\\site-packages\\pooch\\utils.py)"
     ]
    }
   ],
   "metadata": {}
  },
  {
   "cell_type": "code",
   "execution_count": null,
   "source": [],
   "outputs": [],
   "metadata": {}
  },
  {
   "cell_type": "code",
   "execution_count": null,
   "source": [],
   "outputs": [],
   "metadata": {}
  }
 ],
 "metadata": {
  "orig_nbformat": 4,
  "language_info": {
   "name": "python",
   "version": "3.8.10",
   "mimetype": "text/x-python",
   "codemirror_mode": {
    "name": "ipython",
    "version": 3
   },
   "pygments_lexer": "ipython3",
   "nbconvert_exporter": "python",
   "file_extension": ".py"
  },
  "kernelspec": {
   "name": "python3",
   "display_name": "Python 3.8.10 64-bit ('pytorch': conda)"
  },
  "interpreter": {
   "hash": "3b877b1f7a01ee3f13579b88b14e81a6c392478055cee1e0634b92db773b747d"
  }
 },
 "nbformat": 4,
 "nbformat_minor": 2
}